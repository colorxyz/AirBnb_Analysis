{
 "cells": [
  {
   "cell_type": "markdown",
   "id": "6ad3eb67-059c-444e-82a4-dd970dba4d02",
   "metadata": {},
   "source": [
    "# Analysis - 3\n",
    "\n",
    "# Sentiment Analysis Of Reviews & its relationship with Price"
   ]
  },
  {
   "cell_type": "markdown",
   "id": "39e24fa2-3ba5-4b36-bf52-47b85674e274",
   "metadata": {},
   "source": [
    "    There are so many factors which contributes towards the price of a listing on AirBnB.\n",
    "    While, we already have few conclusions for relationship between various factors and their dependency on prices of a listing,\n",
    "    lets analyze if price of a listing dependent upon number of reviews and if yes, how does it varies?"
   ]
  },
  {
   "cell_type": "code",
   "execution_count": 46,
   "id": "170602b2-dc9f-4c78-b0d9-bdf6d4429997",
   "metadata": {},
   "outputs": [
    {
     "name": "stderr",
     "output_type": "stream",
     "text": [
      "[nltk_data] Downloading package vader_lexicon to\n",
      "[nltk_data]     C:\\Users\\leec\\AppData\\Roaming\\nltk_data...\n",
      "[nltk_data]   Package vader_lexicon is already up-to-date!\n"
     ]
    },
    {
     "data": {
      "text/plain": [
       "True"
      ]
     },
     "execution_count": 46,
     "metadata": {},
     "output_type": "execute_result"
    }
   ],
   "source": [
    "import numpy as np\n",
    "import pandas as pd\n",
    "import seaborn as sns\n",
    "%matplotlib inline\n",
    "import matplotlib\n",
    "import matplotlib.pyplot as plt\n",
    "import nltk\n",
    "from nltk.sentiment.vader import SentimentIntensityAnalyzer\n",
    "nltk.download('vader_lexicon')"
   ]
  },
  {
   "cell_type": "code",
   "execution_count": 47,
   "id": "f0e15820-6c03-41d6-96a2-0974295e4ff2",
   "metadata": {},
   "outputs": [
    {
     "data": {
      "text/html": [
       "<div>\n",
       "<style scoped>\n",
       "    .dataframe tbody tr th:only-of-type {\n",
       "        vertical-align: middle;\n",
       "    }\n",
       "\n",
       "    .dataframe tbody tr th {\n",
       "        vertical-align: top;\n",
       "    }\n",
       "\n",
       "    .dataframe thead th {\n",
       "        text-align: right;\n",
       "    }\n",
       "</style>\n",
       "<table border=\"1\" class=\"dataframe\">\n",
       "  <thead>\n",
       "    <tr style=\"text-align: right;\">\n",
       "      <th></th>\n",
       "      <th>listing_id</th>\n",
       "      <th>id</th>\n",
       "      <th>date</th>\n",
       "      <th>reviewer_id</th>\n",
       "      <th>reviewer_name</th>\n",
       "      <th>comments</th>\n",
       "      <th>city</th>\n",
       "    </tr>\n",
       "  </thead>\n",
       "  <tbody>\n",
       "    <tr>\n",
       "      <th>0</th>\n",
       "      <td>1178162</td>\n",
       "      <td>4724140</td>\n",
       "      <td>2013-05-21</td>\n",
       "      <td>4298113</td>\n",
       "      <td>Olivier</td>\n",
       "      <td>My stay at islam's place was really cool! Good...</td>\n",
       "      <td>Boston</td>\n",
       "    </tr>\n",
       "    <tr>\n",
       "      <th>1</th>\n",
       "      <td>1178162</td>\n",
       "      <td>4869189</td>\n",
       "      <td>2013-05-29</td>\n",
       "      <td>6452964</td>\n",
       "      <td>Charlotte</td>\n",
       "      <td>Great location for both airport and city - gre...</td>\n",
       "      <td>Boston</td>\n",
       "    </tr>\n",
       "    <tr>\n",
       "      <th>2</th>\n",
       "      <td>1178162</td>\n",
       "      <td>5003196</td>\n",
       "      <td>2013-06-06</td>\n",
       "      <td>6449554</td>\n",
       "      <td>Sebastian</td>\n",
       "      <td>We really enjoyed our stay at Islams house. Fr...</td>\n",
       "      <td>Boston</td>\n",
       "    </tr>\n",
       "    <tr>\n",
       "      <th>3</th>\n",
       "      <td>1178162</td>\n",
       "      <td>5150351</td>\n",
       "      <td>2013-06-15</td>\n",
       "      <td>2215611</td>\n",
       "      <td>Marine</td>\n",
       "      <td>The room was nice and clean and so were the co...</td>\n",
       "      <td>Boston</td>\n",
       "    </tr>\n",
       "    <tr>\n",
       "      <th>4</th>\n",
       "      <td>1178162</td>\n",
       "      <td>5171140</td>\n",
       "      <td>2013-06-16</td>\n",
       "      <td>6848427</td>\n",
       "      <td>Andrew</td>\n",
       "      <td>Great location. Just 5 mins walk from the Airp...</td>\n",
       "      <td>Boston</td>\n",
       "    </tr>\n",
       "  </tbody>\n",
       "</table>\n",
       "</div>"
      ],
      "text/plain": [
       "   listing_id       id        date  reviewer_id reviewer_name  \\\n",
       "0     1178162  4724140  2013-05-21      4298113       Olivier   \n",
       "1     1178162  4869189  2013-05-29      6452964     Charlotte   \n",
       "2     1178162  5003196  2013-06-06      6449554     Sebastian   \n",
       "3     1178162  5150351  2013-06-15      2215611        Marine   \n",
       "4     1178162  5171140  2013-06-16      6848427        Andrew   \n",
       "\n",
       "                                            comments    city  \n",
       "0  My stay at islam's place was really cool! Good...  Boston  \n",
       "1  Great location for both airport and city - gre...  Boston  \n",
       "2  We really enjoyed our stay at Islams house. Fr...  Boston  \n",
       "3  The room was nice and clean and so were the co...  Boston  \n",
       "4  Great location. Just 5 mins walk from the Airp...  Boston  "
      ]
     },
     "execution_count": 47,
     "metadata": {},
     "output_type": "execute_result"
    }
   ],
   "source": [
    "reviewsDF = pd.read_csv('reviews.csv')\n",
    "reviewsDF = reviewsDF.drop(['Unnamed: 0'],axis=1)\n",
    "reviewsDF = reviewsDF.dropna()\n",
    "reviewsDF.head()"
   ]
  },
  {
   "cell_type": "markdown",
   "id": "d323fb31-3599-4c06-9c3e-1bddfd4e4f85",
   "metadata": {},
   "source": [
    "To retrieve the 'sentiment' of comments - 'positive','negative' or 'neutral' I am using built-in analyzer in the NLTK Python library to assign polarity scoore to each comment."
   ]
  },
  {
   "cell_type": "code",
   "execution_count": 48,
   "id": "ee65dcfc-d06a-4e7d-8d5f-eb5a84d07fb9",
   "metadata": {},
   "outputs": [
    {
     "data": {
      "text/html": [
       "<div>\n",
       "<style scoped>\n",
       "    .dataframe tbody tr th:only-of-type {\n",
       "        vertical-align: middle;\n",
       "    }\n",
       "\n",
       "    .dataframe tbody tr th {\n",
       "        vertical-align: top;\n",
       "    }\n",
       "\n",
       "    .dataframe thead th {\n",
       "        text-align: right;\n",
       "    }\n",
       "</style>\n",
       "<table border=\"1\" class=\"dataframe\">\n",
       "  <thead>\n",
       "    <tr style=\"text-align: right;\">\n",
       "      <th></th>\n",
       "      <th>listing_id</th>\n",
       "      <th>id</th>\n",
       "      <th>date</th>\n",
       "      <th>reviewer_id</th>\n",
       "      <th>reviewer_name</th>\n",
       "      <th>comments</th>\n",
       "      <th>city</th>\n",
       "      <th>polarity_value</th>\n",
       "      <th>neg</th>\n",
       "      <th>pos</th>\n",
       "      <th>neu</th>\n",
       "      <th>compound</th>\n",
       "    </tr>\n",
       "  </thead>\n",
       "  <tbody>\n",
       "    <tr>\n",
       "      <th>0</th>\n",
       "      <td>1178162</td>\n",
       "      <td>4724140</td>\n",
       "      <td>2013-05-21</td>\n",
       "      <td>4298113</td>\n",
       "      <td>Olivier</td>\n",
       "      <td>My stay at islam's place was really cool! Good...</td>\n",
       "      <td>Boston</td>\n",
       "      <td>{'neg': 0.0, 'neu': 0.648, 'pos': 0.352, 'comp...</td>\n",
       "      <td>0.0</td>\n",
       "      <td>0.352</td>\n",
       "      <td>0.648</td>\n",
       "      <td>0.9626</td>\n",
       "    </tr>\n",
       "    <tr>\n",
       "      <th>1</th>\n",
       "      <td>1178162</td>\n",
       "      <td>4869189</td>\n",
       "      <td>2013-05-29</td>\n",
       "      <td>6452964</td>\n",
       "      <td>Charlotte</td>\n",
       "      <td>Great location for both airport and city - gre...</td>\n",
       "      <td>Boston</td>\n",
       "      <td>{'neg': 0.0, 'neu': 0.639, 'pos': 0.361, 'comp...</td>\n",
       "      <td>0.0</td>\n",
       "      <td>0.361</td>\n",
       "      <td>0.639</td>\n",
       "      <td>0.9061</td>\n",
       "    </tr>\n",
       "    <tr>\n",
       "      <th>2</th>\n",
       "      <td>1178162</td>\n",
       "      <td>5003196</td>\n",
       "      <td>2013-06-06</td>\n",
       "      <td>6449554</td>\n",
       "      <td>Sebastian</td>\n",
       "      <td>We really enjoyed our stay at Islams house. Fr...</td>\n",
       "      <td>Boston</td>\n",
       "      <td>{'neg': 0.0, 'neu': 0.767, 'pos': 0.233, 'comp...</td>\n",
       "      <td>0.0</td>\n",
       "      <td>0.233</td>\n",
       "      <td>0.767</td>\n",
       "      <td>0.9663</td>\n",
       "    </tr>\n",
       "    <tr>\n",
       "      <th>3</th>\n",
       "      <td>1178162</td>\n",
       "      <td>5150351</td>\n",
       "      <td>2013-06-15</td>\n",
       "      <td>2215611</td>\n",
       "      <td>Marine</td>\n",
       "      <td>The room was nice and clean and so were the co...</td>\n",
       "      <td>Boston</td>\n",
       "      <td>{'neg': 0.0, 'neu': 0.673, 'pos': 0.327, 'comp...</td>\n",
       "      <td>0.0</td>\n",
       "      <td>0.327</td>\n",
       "      <td>0.673</td>\n",
       "      <td>0.9267</td>\n",
       "    </tr>\n",
       "    <tr>\n",
       "      <th>4</th>\n",
       "      <td>1178162</td>\n",
       "      <td>5171140</td>\n",
       "      <td>2013-06-16</td>\n",
       "      <td>6848427</td>\n",
       "      <td>Andrew</td>\n",
       "      <td>Great location. Just 5 mins walk from the Airp...</td>\n",
       "      <td>Boston</td>\n",
       "      <td>{'neg': 0.0, 'neu': 0.637, 'pos': 0.363, 'comp...</td>\n",
       "      <td>0.0</td>\n",
       "      <td>0.363</td>\n",
       "      <td>0.637</td>\n",
       "      <td>0.8658</td>\n",
       "    </tr>\n",
       "  </tbody>\n",
       "</table>\n",
       "</div>"
      ],
      "text/plain": [
       "   listing_id       id        date  reviewer_id reviewer_name  \\\n",
       "0     1178162  4724140  2013-05-21      4298113       Olivier   \n",
       "1     1178162  4869189  2013-05-29      6452964     Charlotte   \n",
       "2     1178162  5003196  2013-06-06      6449554     Sebastian   \n",
       "3     1178162  5150351  2013-06-15      2215611        Marine   \n",
       "4     1178162  5171140  2013-06-16      6848427        Andrew   \n",
       "\n",
       "                                            comments    city  \\\n",
       "0  My stay at islam's place was really cool! Good...  Boston   \n",
       "1  Great location for both airport and city - gre...  Boston   \n",
       "2  We really enjoyed our stay at Islams house. Fr...  Boston   \n",
       "3  The room was nice and clean and so were the co...  Boston   \n",
       "4  Great location. Just 5 mins walk from the Airp...  Boston   \n",
       "\n",
       "                                      polarity_value  neg    pos    neu  \\\n",
       "0  {'neg': 0.0, 'neu': 0.648, 'pos': 0.352, 'comp...  0.0  0.352  0.648   \n",
       "1  {'neg': 0.0, 'neu': 0.639, 'pos': 0.361, 'comp...  0.0  0.361  0.639   \n",
       "2  {'neg': 0.0, 'neu': 0.767, 'pos': 0.233, 'comp...  0.0  0.233  0.767   \n",
       "3  {'neg': 0.0, 'neu': 0.673, 'pos': 0.327, 'comp...  0.0  0.327  0.673   \n",
       "4  {'neg': 0.0, 'neu': 0.637, 'pos': 0.363, 'comp...  0.0  0.363  0.637   \n",
       "\n",
       "   compound  \n",
       "0    0.9626  \n",
       "1    0.9061  \n",
       "2    0.9663  \n",
       "3    0.9267  \n",
       "4    0.8658  "
      ]
     },
     "execution_count": 48,
     "metadata": {},
     "output_type": "execute_result"
    }
   ],
   "source": [
    "#assigning polarity score to each comment and adding the same to dataframe\n",
    "sid = SentimentIntensityAnalyzer()\n",
    "\n",
    "reviewsDF['polarity_value']=\"Default\"\n",
    "reviewsDF['neg'] = 0.0\n",
    "reviewsDF['pos'] = 0.0\n",
    "reviewsDF['neu'] = 0.0\n",
    "reviewsDF['compound'] = 0.0\n",
    "for index,row in reviewsDF.iterrows():\n",
    "    ss = sid.polarity_scores(row['comments'])\n",
    "    reviewsDF.at[index,'polarity_value'] = ss\n",
    "    reviewsDF.at[index,'neg'] = ss['neg']\n",
    "    reviewsDF.at[index,'pos'] = ss['pos']\n",
    "    reviewsDF.at[index,'neu'] = ss['neu']\n",
    "    reviewsDF.at[index,'compound'] = ss['compound']\n",
    "reviewsDF.head()"
   ]
  },
  {
   "cell_type": "code",
   "execution_count": 49,
   "id": "25c76cfa-e4a0-4f43-91a6-5137bc85462e",
   "metadata": {},
   "outputs": [],
   "source": [
    "# Our dataframe consists of reviews in different language as well.Hence removing the comments which are not in english\n",
    "from langdetect import detect\n",
    "\n",
    "def detect_lang(sente):\n",
    "    sente=str(sente)\n",
    "    try:\n",
    "        return detect(sente)\n",
    "    except:\n",
    "        return \"None\""
   ]
  },
  {
   "cell_type": "code",
   "execution_count": 50,
   "id": "9393064e-70f2-4109-9aff-efccae333f3f",
   "metadata": {},
   "outputs": [
    {
     "data": {
      "text/html": [
       "<div>\n",
       "<style scoped>\n",
       "    .dataframe tbody tr th:only-of-type {\n",
       "        vertical-align: middle;\n",
       "    }\n",
       "\n",
       "    .dataframe tbody tr th {\n",
       "        vertical-align: top;\n",
       "    }\n",
       "\n",
       "    .dataframe thead th {\n",
       "        text-align: right;\n",
       "    }\n",
       "</style>\n",
       "<table border=\"1\" class=\"dataframe\">\n",
       "  <thead>\n",
       "    <tr style=\"text-align: right;\">\n",
       "      <th></th>\n",
       "      <th>listing_id</th>\n",
       "      <th>id</th>\n",
       "      <th>date</th>\n",
       "      <th>reviewer_id</th>\n",
       "      <th>reviewer_name</th>\n",
       "      <th>comments</th>\n",
       "      <th>city</th>\n",
       "      <th>polarity_value</th>\n",
       "      <th>neg</th>\n",
       "      <th>pos</th>\n",
       "      <th>neu</th>\n",
       "      <th>compound</th>\n",
       "      <th>language</th>\n",
       "    </tr>\n",
       "  </thead>\n",
       "  <tbody>\n",
       "    <tr>\n",
       "      <th>0</th>\n",
       "      <td>1178162</td>\n",
       "      <td>4724140</td>\n",
       "      <td>2013-05-21</td>\n",
       "      <td>4298113</td>\n",
       "      <td>Olivier</td>\n",
       "      <td>My stay at islam's place was really cool! Good...</td>\n",
       "      <td>Boston</td>\n",
       "      <td>{'neg': 0.0, 'neu': 0.648, 'pos': 0.352, 'comp...</td>\n",
       "      <td>0.0</td>\n",
       "      <td>0.352</td>\n",
       "      <td>0.648</td>\n",
       "      <td>0.9626</td>\n",
       "      <td>en</td>\n",
       "    </tr>\n",
       "    <tr>\n",
       "      <th>1</th>\n",
       "      <td>1178162</td>\n",
       "      <td>4869189</td>\n",
       "      <td>2013-05-29</td>\n",
       "      <td>6452964</td>\n",
       "      <td>Charlotte</td>\n",
       "      <td>Great location for both airport and city - gre...</td>\n",
       "      <td>Boston</td>\n",
       "      <td>{'neg': 0.0, 'neu': 0.639, 'pos': 0.361, 'comp...</td>\n",
       "      <td>0.0</td>\n",
       "      <td>0.361</td>\n",
       "      <td>0.639</td>\n",
       "      <td>0.9061</td>\n",
       "      <td>en</td>\n",
       "    </tr>\n",
       "  </tbody>\n",
       "</table>\n",
       "</div>"
      ],
      "text/plain": [
       "   listing_id       id        date  reviewer_id reviewer_name  \\\n",
       "0     1178162  4724140  2013-05-21      4298113       Olivier   \n",
       "1     1178162  4869189  2013-05-29      6452964     Charlotte   \n",
       "\n",
       "                                            comments    city  \\\n",
       "0  My stay at islam's place was really cool! Good...  Boston   \n",
       "1  Great location for both airport and city - gre...  Boston   \n",
       "\n",
       "                                      polarity_value  neg    pos    neu  \\\n",
       "0  {'neg': 0.0, 'neu': 0.648, 'pos': 0.352, 'comp...  0.0  0.352  0.648   \n",
       "1  {'neg': 0.0, 'neu': 0.639, 'pos': 0.361, 'comp...  0.0  0.361  0.639   \n",
       "\n",
       "   compound language  \n",
       "0    0.9626       en  \n",
       "1    0.9061       en  "
      ]
     },
     "execution_count": 50,
     "metadata": {},
     "output_type": "execute_result"
    }
   ],
   "source": [
    "for index,row in reviewsDF.iterrows():\n",
    "    lang=detect_lang(row['comments'])\n",
    "    reviewsDF.at[index,'language'] = lang\n",
    "    \n",
    "#taking rows whose language is English\n",
    "EngReviewsDF=reviewsDF[reviewsDF.language=='en']\n",
    "\n",
    "EngReviewsDF.head(2)"
   ]
  },
  {
   "cell_type": "code",
   "execution_count": 51,
   "id": "826dbbc3-9647-4f8c-9f68-fedc5a5a58ff",
   "metadata": {},
   "outputs": [],
   "source": [
    "# Lets visualize polarity score for positivity\n",
    "def get_polarDF(EngReviewsDF,polarity):\n",
    "    polarDF=EngReviewsDF[[polarity]]\n",
    "    polarDF=polarDF.groupby(pd.cut(polarDF[polarity], np.arange(0, 1.1, 0.1))).count()\n",
    "    polarDF=polarDF.rename(columns={polarity:'count_of_Comments'})\n",
    "    polarDF=polarDF.reset_index()\n",
    "    polarDF=polarDF.rename(columns={polarity:'range_i'})\n",
    "    if polarity == 'pos':\n",
    "        s_polarity = 'positive'\n",
    "    elif polarity == 'neg':\n",
    "        s_polarity = 'negative'\n",
    "    elif polarity == 'neu':\n",
    "        s_polarity = 'neutrl'\n",
    "    for i,r in polarDF.iterrows():\n",
    "        polarDF.at[i,'RANGE']=float(str(r['range_i'])[1:4].replace(',',''))\n",
    "        polarDF.at[i,'Sentiment']=s_polarity\n",
    "    del polarDF['range_i']\n",
    "    return polarDF"
   ]
  },
  {
   "cell_type": "code",
   "execution_count": 52,
   "id": "aeb9adf7-bfb4-4617-a2e5-9def3b504c3f",
   "metadata": {},
   "outputs": [],
   "source": [
    "def get_polarDF_all(EngReviewsDF): \n",
    "    polarDF = get_polarDF(EngReviewsDF,'pos')\n",
    "    polarDFneg = get_polarDF(EngReviewsDF,'neg')\n",
    "    for i,r in polarDFneg.iterrows():\n",
    "        polarDF=polarDF.append(pd.Series([r[0],r[1],r[2]],index=['count_of_Comments','RANGE','Sentiment']),ignore_index=True)\n",
    "    polarDFnut = get_polarDF(EngReviewsDF,'neu')\n",
    "    for i,r in polarDFnut.iterrows():\n",
    "        polarDF=polarDF.append(pd.Series([r[0],r[1],r[2]],index=['count_of_Comments','RANGE','Sentiment']),ignore_index=True)   \n",
    "    return polarDF         "
   ]
  },
  {
   "cell_type": "code",
   "execution_count": 53,
   "id": "e952c965-0a3c-43c4-8b53-7390d85dd817",
   "metadata": {},
   "outputs": [
    {
     "name": "stderr",
     "output_type": "stream",
     "text": [
      "C:\\Users\\leec\\Anaconda3\\lib\\site-packages\\seaborn\\categorical.py:3717: UserWarning: The `factorplot` function has been renamed to `catplot`. The original name will be removed in a future release. Please update your code. Note that the default `kind` in `factorplot` (`'point'`) has changed `'strip'` in `catplot`.\n",
      "  warnings.warn(msg)\n"
     ]
    },
    {
     "data": {
      "text/plain": [
       "<seaborn.axisgrid.FacetGrid at 0x2d6d953ebb0>"
      ]
     },
     "execution_count": 53,
     "metadata": {},
     "output_type": "execute_result"
    },
    {
     "data": {
      "text/plain": [
       "<Figure size 720x720 with 0 Axes>"
      ]
     },
     "metadata": {},
     "output_type": "display_data"
    },
    {
     "data": {
      "image/png": "[encoded data removed]",
      "text/plain": [
       "<Figure size 1080x360 with 3 Axes>"
      ]
     },
     "metadata": {
      "needs_background": "light"
     },
     "output_type": "display_data"
    }
   ],
   "source": [
    "polarDF=get_polarDF_all(EngReviewsDF)\n",
    "plt.figure(figsize=(10,10))\n",
    "sns.factorplot(data=polarDF, x=\"RANGE\", y=\"count_of_Comments\",col=\"Sentiment\") "
   ]
  },
  {
   "cell_type": "markdown",
   "id": "cc518421-ea06-4975-92b6-808aeb15683e",
   "metadata": {},
   "source": [
    "    It can be seen that Almost none of the texts are classified as having significant amounts of negativity. \n",
    "    In fact, a significant amount of them are given exactly 0.0 negativity.\n",
    "    It can be clearly seen that most of the comments are neutral.\n",
    "    However, a signifigant amount of comments are positive.\n",
    "\n",
    "    We can loosely interpret number of reviews as times people have stayed in the said listing. \n",
    "    Of course, this depends on when the listing appeared, how long it appeared for, and various other factors. \n",
    "    But it could serve to be useful information to see correlation between price and number of reviews.\n",
    "    Lets check if there is any relationship between number of reviews and price of listing"
   ]
  },
  {
   "cell_type": "code",
   "execution_count": 77,
   "id": "c6c0667f-e842-46f0-9b01-a0867310a057",
   "metadata": {},
   "outputs": [
    {
     "data": {
      "text/plain": [
       "<AxesSubplot:xlabel='price', ylabel='number_of_reviews'>"
      ]
     },
     "execution_count": 77,
     "metadata": {},
     "output_type": "execute_result"
    },
    {
     "data": {
      "image/png": "[encoded data removed]",
      "text/plain": [
       "<Figure size 432x288 with 1 Axes>"
      ]
     },
     "metadata": {
      "needs_background": "light"
     },
     "output_type": "display_data"
    }
   ],
   "source": [
    "sns.scatterplot(x = listings['price'], y = listings['number_of_reviews'], hue=listings[\"city\"])"
   ]
  },
  {
   "cell_type": "markdown",
   "id": "2f412ead-d573-4d33-ad76-49439189f200",
   "metadata": {},
   "source": [
    "    The graph shows that listings with prices that range around 100 - 400 get the most reviews, probably because they are in the most reasonable price range. \n",
    "    The number quickly declines as the price goes up.\n",
    "    This indicates that more people book listings that are around $100 - 400 in prices for Boston while listings for Seatle are around $50~100.\n",
    "    This shows that it is not necessary for an expensive listing to have large number of reviews.\n",
    "    Heneforth there is no exact relation between Prices and Number of Reviews for a listing."
   ]
  },
  {
   "cell_type": "code",
   "execution_count": null,
   "id": "534ba157-6459-4275-8f04-519bfa862a39",
   "metadata": {},
   "outputs": [],
   "source": []
  }
 ],
 "metadata": {
  "kernelspec": {
   "display_name": "Python 3 (ipykernel)",
   "language": "python",
   "name": "python3"
  },
  "language_info": {
   "codemirror_mode": {
    "name": "ipython",
    "version": 3
   },
   "file_extension": ".py",
   "mimetype": "text/x-python",
   "name": "python",
   "nbconvert_exporter": "python",
   "pygments_lexer": "ipython3",
   "version": "3.9.7"
  }
 },
 "nbformat": 4,
 "nbformat_minor": 5
}
